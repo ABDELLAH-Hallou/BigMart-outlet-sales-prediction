{
  "nbformat": 4,
  "nbformat_minor": 0,
  "metadata": {
    "colab": {
      "name": "BigMart-outlet-sales-prediction.ipynb",
      "provenance": [],
      "authorship_tag": "ABX9TyNYirU7MtzZ6uUhvPkM6ppU",
      "include_colab_link": true
    },
    "kernelspec": {
      "name": "python3",
      "display_name": "Python 3"
    },
    "language_info": {
      "name": "python"
    }
  },
  "cells": [
    {
      "cell_type": "markdown",
      "metadata": {
        "id": "view-in-github",
        "colab_type": "text"
      },
      "source": [
        "<a href=\"https://colab.research.google.com/github/ABDELLAH-Hallou/BigMart-outlet-sales-prediction/blob/master/BigMart_outlet_sales_prediction.ipynb\" target=\"_parent\"><img src=\"https://colab.research.google.com/assets/colab-badge.svg\" alt=\"Open In Colab\"/></a>"
      ]
    },
    {
      "cell_type": "markdown",
      "source": [
        "# **Project Description** : BigMart outlets Sales Prediction\n",
        "#### The data scientists at BigMart have collected 2013 sales data for 1559 products across 10 stores in different cities. Also, certain attributes of each product and store have been defined. The aim of this data science project is to build a predictive model and find out the sales of each product at a particular store.\n",
        "## Our objective\n",
        "#### Using this model, BigMart will try to understand the properties of products and stores which play a key role in increasing sales.\n",
        "\n",
        "#We will handle this problem in a structured way. We will be following the table of content given below:\n",
        "\n",
        "### 1.   Hypothesis Generation\n",
        "### 2.   Loading Packages and Data\n",
        "###3.   Data Structure and Content\n",
        "###4.   Exploratory Data Analysis\n",
        "###5.   Univariate Analysis\n",
        "###6.   Bivariate Analysis\n",
        "###7.   Missing Value Treatment\n",
        "###8.   Feature Engineering\n",
        "###9.   Encoding Categorical Variables\n",
        "###10.   Label Encoding\n",
        "###11.   One Hot Encoding\n",
        "###12.   PreProcessing Data\n",
        "###13.   Modeling\n",
        "###14.   Summary\n",
        "\n",
        "\n",
        "\n",
        "\n"
      ],
      "metadata": {
        "id": "0RdG6rMsimy-"
      }
    },
    {
      "cell_type": "markdown",
      "source": [
        "#**Hypothesis Generation**\n"
      ],
      "metadata": {
        "id": "YD70QPpoDKKu"
      }
    },
    {
      "cell_type": "markdown",
      "source": [
        "# **Loading Packages and Data**"
      ],
      "metadata": {
        "id": "j9vgKcYLDZtk"
      }
    },
    {
      "cell_type": "code",
      "source": [
        "# Loading Packages and Data\n"
      ],
      "metadata": {
        "id": "O86GvGESu6jc"
      },
      "execution_count": null,
      "outputs": []
    },
    {
      "cell_type": "markdown",
      "source": [
        "## Data Dictionary\n",
        "#### We have train 8523 dataset, which contains both input and output variables,and test 5681 dataset, We need to predict the sales for these.\n",
        "*   **Item_Identifier**: Product ID\n",
        "*   **Item_Weight**: Product Weight \n",
        "*   **Item_Fat_Content**: Is the product Low Fat or not(Regular)\n",
        "*   **Item_Visibility**: The percentage of total display area for all products in the store allocated to each product\n",
        "*   **Item_Type**: Product Category\n",
        "*   **Item_MRP**: Maximum Retail Price of the Product\n",
        "*   **Outlet_Identifier**: Store ID\n",
        "*   **Outlet_Establishment_Year**: The year in which the Store was established\n",
        "*   **Outlet_Size**: The area of ground space covered by the store (Small-Medium-High)\n",
        "*   **Outlet_Location_Type**: The type of city in which the store is located\n",
        "*   **Outlet_Type**: The outlet Category (Grocery store or some sort of supermarket)\n",
        "*   **Item_Outlet_Sales**: Sales of the product in the particulat store. This is the outcome variable to be predicted."
      ],
      "metadata": {
        "id": "RImfu8vguxuM"
      }
    }
  ]
}